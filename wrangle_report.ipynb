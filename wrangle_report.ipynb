{
 "cells": [
  {
   "cell_type": "markdown",
   "metadata": {},
   "source": [
    "## Reporting: wragle_report\n",
    "* Create a **300-600 word written report** called \"wrangle_report.pdf\" or \"wrangle_report.html\" that briefly describes your wrangling efforts. This is to be framed as an internal document."
   ]
  },
  {
   "cell_type": "markdown",
   "metadata": {},
   "source": [
    "My data wrangling in my project passed a few steps The first step is to gathring the data, and here I converted an image to a dataframe using the Recosts library, and also a csv file to a dataframe, and I downloaded the data from the api in a JSON file then made it data frame \n",
    "The second step of assisting, and here I made a decomment that included all my notes for the problems found in three dataframes\n",
    "The third step of cleaning is to understand and solve these problems And make sure that it was successfully resolved in all three copies that I made from the original dataframes\n",
    "One of the steps that I have made is that I merged two of datafrmaes that I have gathered, and that was based on the tweet id, and was in order to have less dataframe to work with, hence more focused work and more effiecient one.\n",
    "The fourth step is saving, and here I saved my last clean dataframe, then read it and renamed it so that I can use it easily in Analysys."
   ]
  },
  {
   "cell_type": "markdown",
   "metadata": {},
   "source": [
    "    Quality issues\n",
    "0- Remove Retweets rows, remove retweets (text column starts with RT @) as a user can retweet their on tweet.\n",
    "\n",
    "1- In the TwArEn_df, we relized that the time stamp datatype is not date, but object. and needs to be changed that's in addition to the ('created at') in dataframe_json is not date type.\n",
    "\n",
    "2- In the TwArEn_df, we relized that there are many None values in the name, in addition to other arbitary values.\n",
    "\n",
    "3- In the TwArEn_df, we found that many columns are making a mess and are not necessary, we will drop them.\n",
    "\n",
    "4- The url in the source column still have the html format, we will make it atomic url.\n",
    "\n",
    "5- Tweet_Id Column in all the data frames should be \"object\" datatype, that's because it is a long number.\n",
    "\n",
    "6- 'name' column have many values that aren't names, like 'a', 'an' and so on, which is a quality issue.\n",
    "\n",
    "7- alot of null values in a lot of columns, so we gonna drop it.\n",
    "\n",
    "8- The source is in html format, we will filter it to the atomic shape.\n",
    "\n",
    "\n",
    "    Tidiness issues\n",
    "1- Some merge should be done for the first two tables with the tweet ID, to make it a whole\n",
    "\n",
    "2- in the first table, the last four chractaristics [doggo floofer pupper puppo] can be changed to score (each is = to 1) so that we can use it in our analysis"
   ]
  },
  {
   "cell_type": "markdown",
   "metadata": {},
   "source": []
  },
  {
   "cell_type": "code",
   "execution_count": null,
   "metadata": {},
   "outputs": [],
   "source": []
  }
 ],
 "metadata": {
  "kernelspec": {
   "display_name": "Python 3",
   "language": "python",
   "name": "python3"
  },
  "language_info": {
   "codemirror_mode": {
    "name": "ipython",
    "version": 3
   },
   "file_extension": ".py",
   "mimetype": "text/x-python",
   "name": "python",
   "nbconvert_exporter": "python",
   "pygments_lexer": "ipython3",
   "version": "3.6.3"
  }
 },
 "nbformat": 4,
 "nbformat_minor": 2
}
